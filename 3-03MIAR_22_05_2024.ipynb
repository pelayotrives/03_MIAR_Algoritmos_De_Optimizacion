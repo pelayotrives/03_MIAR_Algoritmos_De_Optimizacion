{
 "cells": [
  {
   "cell_type": "markdown",
   "id": "6998a484",
   "metadata": {},
   "source": [
    "# 03MIAR - Algoritmos de Optimización\n",
    "\n",
    "## [Pelayo Trives Pozuelo](https://github.com/pelayotrives)\n",
    "\n",
    "22.05.24 - _03MIAR_\n",
    "\n",
    "## Apuntes\n",
    "\n",
    "### Programación lineal\n",
    "\n",
    "Problemas de programación lineal son los que necesitan optimizar una función que es linea y continua, multivariable, sobre unas restricciones expresadas en igualdades o desigualdades.\n",
    "\n",
    "- **Método del simplex**: se obtienen soluciones iterativamente a través de la frontera de la región factible hasta llegar al óptimo.\n",
    "- El éxito de su eficiencia se basa en que no es necesario revisar todos los puntos extremos de la región.\n",
    "    - Se traduce en desplazar la función objetivo por los puntos externos de la región factible hasta que no se encuentre intersección.\n",
    "    \n",
    "Problemas clásicos de programación lineal:\n",
    "- Problema de la dieta de Stigler (dieta equilibrada (restricciones) al menos coste (función objetivo))\n",
    "- Problema del transporte de Koopmans (minimizar el coste de transportar mercancías entre diferentes puntos)\n",
    "- Problema de producción de maximizar ganancias al producir con materias primas (restricciones)\n",
    "\n",
    "### Programación lineal entera\n",
    "\n",
    "Cuando tenemos valores enteros, no existe un algoritmo para resolverlo. Cada problema requiere un diseño específico según la técnica más adecuada. Hay dos tipos:\n",
    "\n",
    "- Puros (todas las variables deben ser enteras)\n",
    "- Mixtos (algunas variables deben ser enteras)\n",
    "\n",
    "**Resolución**\n",
    "\n",
    "- Resolver el problema sin las restricciones de variables enteras. Si la solución es entera, hemos tenido suerte.\n",
    "- Redondear as soluciones del problema. Es _mala opción_.\n",
    "\n",
    "Algunas opciones a tener en cuenta son:\n",
    "\n",
    "- Algoritmos de búsqueda con ramificación y poda\n",
    "- Algoritmos heurísticos\n",
    "\n",
    "Hay muchos problemas de este tipo:\n",
    "\n",
    "- Inversión de capital\n",
    "- Problema de coste fijo\n",
    "- Cubrimiento de conjuntos\n",
    "\n",
    "Ejemplo:\n",
    "\n",
    "Se consideran 4 posibles inversiones. La primera proporciona beneficios netos de 16K euros. La segunda 22K. Tercera, 12K. Cuarta 8K. Reequiere cierta cantidad de dinero, 5K, 7K, 4K y 3K respectivamente. Solamente se dispone de 14K para invertir. Que modelo permite obtener la combinación de inversiones que dará el máximo dinero posible en retorno."
   ]
  }
 ],
 "metadata": {
  "kernelspec": {
   "display_name": "Python 3 (ipykernel)",
   "language": "python",
   "name": "python3"
  },
  "language_info": {
   "codemirror_mode": {
    "name": "ipython",
    "version": 3
   },
   "file_extension": ".py",
   "mimetype": "text/x-python",
   "name": "python",
   "nbconvert_exporter": "python",
   "pygments_lexer": "ipython3",
   "version": "3.11.7"
  }
 },
 "nbformat": 4,
 "nbformat_minor": 5
}
