{
 "cells": [
  {
   "cell_type": "markdown",
   "metadata": {
    "id": "kQn6fbhgtH9I"
   },
   "source": [
    "#Algoritmos - Actividad Guiada 1\n",
    "\n",
    "Nombre: Pelayo Trives Pozuelo<br>\n",
    "URL: https://colab.research.google.com/drive/1lJqfBFQFbfb39vkg9KlMqWj527tXl9uY?usp=sharing\n",
    "\n",
    "https://github.com/pelayotrives\n"
   ]
  },
  {
   "cell_type": "markdown",
   "metadata": {
    "id": "_t62Ge7ZuKnC"
   },
   "source": [
    "##Torres de Hanoi con Divide y vencerás"
   ]
  },
  {
   "cell_type": "code",
   "execution_count": null,
   "metadata": {
    "colab": {
     "base_uri": "https://localhost:8080/"
    },
    "id": "i32G0CUQvauE",
    "outputId": "c3398cec-661d-46a5-b9db-0a0ad168f64a"
   },
   "outputs": [],
   "source": [
    "def Torres_Hanoi(N, desde, hasta):\n",
    "  if N ==1 :\n",
    "    print(\"Lleva la ficha \" ,desde , \" hasta \", hasta )\n",
    "\n",
    "  else:\n",
    "    #Torres_Hanoi(N-1, desde, 6-desde-hasta )\n",
    "    Torres_Hanoi(N-1, desde, 6-desde-hasta )\n",
    "    print(\"Lleva la ficha \" ,desde , \" hasta \", hasta )\n",
    "    #Torres_Hanoi(N-1,6-desde-hasta, hasta )\n",
    "    Torres_Hanoi(N-1, 6-desde-hasta  , hasta )\n",
    "\n",
    "Torres_Hanoi(3, 1 , 3)"
   ]
  },
  {
   "cell_type": "code",
   "execution_count": null,
   "metadata": {
    "colab": {
     "base_uri": "https://localhost:8080/"
    },
    "id": "74qZZAekiNYR",
    "outputId": "acc17268-7f87-4de4-ae5a-4fc6ce09d385"
   },
   "outputs": [],
   "source": [
    "#Sucesión_de_Fibonacci\n",
    "#https://es.wikipedia.org/wiki/Sucesi%C3%B3n_de_Fibonacci\n",
    "#Calculo del termino n-simo de la suscesión de Fibonacci\n",
    "def Fibonacci(N:int):\n",
    "  if N < 2:\n",
    "    return 1\n",
    "  else:\n",
    "    return Fibonacci(N-1)+Fibonacci(N-2)\n",
    "\n",
    "Fibonacci(5)"
   ]
  },
  {
   "cell_type": "markdown",
   "metadata": {
    "id": "RgT5XJsZ429L"
   },
   "source": [
    "##Devolución de cambio por técnica voraz"
   ]
  },
  {
   "cell_type": "code",
   "execution_count": null,
   "metadata": {
    "colab": {
     "base_uri": "https://localhost:8080/"
    },
    "id": "uJtftBLU4-ap",
    "outputId": "b52f7a2c-771b-4c2e-81ab-c4c3ea01318d"
   },
   "outputs": [],
   "source": [
    "def cambio_monedas(N, SM):\n",
    "  SOLUCION = [0]*len(SM)   #SOLUCION = [0,0,0,0,..]\n",
    "  ValorAcumulado = 0\n",
    "\n",
    "  for i,valor in enumerate(SM):\n",
    "    monedas =  (N-ValorAcumulado)//valor\n",
    "    SOLUCION[i] = monedas\n",
    "    ValorAcumulado = ValorAcumulado + monedas*valor\n",
    "\n",
    "    if ValorAcumulado == N:\n",
    "      return SOLUCION\n",
    "\n",
    "\n",
    "cambio_monedas(15,[25,10,5,1])"
   ]
  },
  {
   "cell_type": "markdown",
   "metadata": {
    "id": "g8M9GTvy_Fa3"
   },
   "source": [
    "## N-Reinas por técnica de vueta atrás\n"
   ]
  },
  {
   "cell_type": "code",
   "execution_count": null,
   "metadata": {
    "id": "FqOPyCmv_K65"
   },
   "outputs": [],
   "source": [
    "def escribe(S):\n",
    "  n = len(S)\n",
    "  for x in range(n):\n",
    "    print(\"\")\n",
    "    for i in range(n):\n",
    "      if S[i] == x+1:\n",
    "        print(\" X \" , end=\"\")\n",
    "      else:\n",
    "        print(\" - \", end=\"\")\n",
    "\n",
    "\n",
    "def es_prometedora(SOLUCION,etapa):\n",
    "  #print(SOLUCION)\n",
    "  #Si la solución tiene dos valores iguales no es valida => Dos reinas en la misma fila\n",
    "  for i in range(etapa+1):\n",
    "    #print(\"El valor \" + str(SOLUCION[i]) + \" está \" +  str(SOLUCION.count(SOLUCION[i])) + \" veces\")\n",
    "    if SOLUCION.count(SOLUCION[i]) > 1:\n",
    "      return False\n",
    "\n",
    "    #Verifica las diagonales\n",
    "    for j in range(i+1, etapa +1 ):\n",
    "      #print(\"Comprobando diagonal de \" + str(i) + \" y \" + str(j))\n",
    "      if abs(i-j) == abs(SOLUCION[i]-SOLUCION[j]) : return False\n",
    "  return True\n",
    "\n",
    "\n",
    "\n",
    "def reinas(N, solucion=[], etapa=0):\n",
    "  if len(solucion) == 0:\n",
    "      solucion=[0 for i in range(N)]\n",
    "\n",
    "  for i in range(1, N+1):\n",
    "    solucion[etapa] = i\n",
    "\n",
    "    if es_prometedora(solucion, etapa):\n",
    "      if etapa == N-1:\n",
    "        print(solucion)\n",
    "        #escribe(solucion)\n",
    "        print()\n",
    "      else:\n",
    "        reinas(N, solucion, etapa+1)\n",
    "    else:\n",
    "      None\n",
    "\n",
    "    solucion[etapa] = 0\n",
    "\n",
    "reinas(8)"
   ]
  },
  {
   "cell_type": "markdown",
   "metadata": {
    "id": "p1VZhNzjUfiy"
   },
   "source": [
    "## Viaje por el rio. Programación dinámica"
   ]
  },
  {
   "cell_type": "code",
   "execution_count": null,
   "metadata": {
    "colab": {
     "base_uri": "https://localhost:8080/",
     "height": 351
    },
    "id": "qoqU1XciUdRn",
    "outputId": "541c88e8-e686-4c32-c7e6-812759702496"
   },
   "outputs": [],
   "source": [
    "TARIFAS = [\n",
    "[0,5,4,3,999,999,999],\n",
    "[999,0,999,2,3,999,11],\n",
    "[999,999, 0,1,999,4,10],\n",
    "[999,999,999, 0,5,6,9],\n",
    "[999,999, 999,999,0,999,4],\n",
    "[999,999, 999,999,999,0,3],\n",
    "[999,999,999,999,999,999,0]\n",
    "]\n",
    "\n",
    "\n",
    "\n",
    "################################################################\n",
    "def Precios(TARIFAS):\n",
    "################################################################\n",
    "  #Total de Nodos\n",
    "  N = len(TARIFAS[0])\n",
    "\n",
    "  #Inicialización de la tabla de precios\n",
    "  PRECIOS = [ [9999]*N for i in [9999]*N]\n",
    "  RUTA = [ [\"\"]*N for i in [\"\"]*N]\n",
    "\n",
    "  for i in range(0,N-1):\n",
    "    RUTA[i][i] = i             #Para ir de i a i se \"pasa por i\"\n",
    "    PRECIOS[i][i] = 0          #Para ir de i a i se se paga 0\n",
    "    for j in range(i+1, N):\n",
    "      MIN = TARIFAS[i][j]\n",
    "      RUTA[i][j] = i\n",
    "\n",
    "      for k in range(i, j):\n",
    "        if PRECIOS[i][k] + TARIFAS[k][j] < MIN:\n",
    "            MIN = min(MIN, PRECIOS[i][k] + TARIFAS[k][j] )\n",
    "            RUTA[i][j] = k          #Anota que para ir de i a j hay que pasar por k\n",
    "        PRECIOS[i][j] = MIN\n",
    "\n",
    "  return PRECIOS,RUTA\n",
    "################################################################\n",
    "\n",
    "\n",
    "PRECIOS,RUTA = Precios(TARIFAS)\n",
    "#print(PRECIOS[0][6])\n",
    "\n",
    "print(\"PRECIOS\")\n",
    "for i in range(len(TARIFAS)):\n",
    "  print(PRECIOS[i])\n",
    "\n",
    "print(\"\\nRUTA\")\n",
    "for i in range(len(TARIFAS)):\n",
    "  print(RUTA[i])\n",
    "\n",
    "#Determinar la ruta con Recursividad\n",
    "def calcular_ruta(RUTA, desde, hasta):\n",
    "  if desde == hasta:\n",
    "    #print(\"Ir a :\" + str(desde))\n",
    "    return \"\"\n",
    "  else:\n",
    "    return str(calcular_ruta( RUTA, desde, RUTA[desde][hasta])) +  \\\n",
    "                ',' + \\\n",
    "                str(RUTA[desde][hasta] \\\n",
    "              )\n",
    "\n",
    "print(\"\\nLa ruta es:\")\n",
    "calcular_ruta(RUTA, 0,6)"
   ]
  }
 ],
 "metadata": {
  "colab": {
   "provenance": []
  },
  "kernelspec": {
   "display_name": "Python 3 (ipykernel)",
   "language": "python",
   "name": "python3"
  },
  "language_info": {
   "codemirror_mode": {
    "name": "ipython",
    "version": 3
   },
   "file_extension": ".py",
   "mimetype": "text/x-python",
   "name": "python",
   "nbconvert_exporter": "python",
   "pygments_lexer": "ipython3",
   "version": "3.11.7"
  }
 },
 "nbformat": 4,
 "nbformat_minor": 4
}
